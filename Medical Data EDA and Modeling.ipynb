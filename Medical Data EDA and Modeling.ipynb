{
 "cells": [
  {
   "cell_type": "markdown",
   "id": "19dba36a-0728-45fd-a94f-b3b0d7b4be77",
   "metadata": {},
   "source": [
    "# EDA and Modeling of Medical Data\n",
    "\n",
    "\n",
    "<b>Problem Statement:</b> We are tasked with creating an automated system to estimate the annual medical charges for new customers, using information such as their age, sex, BMI, children, smoking habits and region of residence. Estimates from the system will be used to determine the annual insurance premium offered to the customer.\n",
    "\n",
    "<ins>What is a similar manufacturing problem statement?</ins>"
   ]
  },
  {
   "cell_type": "code",
   "execution_count": null,
   "id": "4a06c1ee-09f8-46f3-984e-daf399ccb87f",
   "metadata": {
    "tags": []
   },
   "outputs": [],
   "source": [
    "import pandas as pd\n",
    "import numpy as np\n",
    "import seaborn as sns\n",
    "import plotly.express as px\n",
    "from matplotlib import pyplot as plt\n",
    "%matplotlib inline\n",
    "\n",
    "pd.set_option('display.float_format', lambda x: '%.2f' % x)"
   ]
  },
  {
   "cell_type": "code",
   "execution_count": null,
   "id": "2fbfc7b3-bd00-4f1b-b792-d2729ddca60e",
   "metadata": {
    "tags": []
   },
   "outputs": [],
   "source": [
    "# Read data from file\n",
    "\n",
    "df= pd.read_csv('insurance.csv')"
   ]
  },
  {
   "cell_type": "code",
   "execution_count": null,
   "id": "4e70d92c-80d6-4a75-a07f-6cc464f1095f",
   "metadata": {},
   "outputs": [],
   "source": [
    "# Check raw data\n",
    "df.head()"
   ]
  },
  {
   "cell_type": "code",
   "execution_count": null,
   "id": "d2908e8c-fa48-4057-9369-4f87a84b9a83",
   "metadata": {},
   "outputs": [],
   "source": [
    "# Check size of dataframe\n",
    "\n",
    "df.shape"
   ]
  },
  {
   "cell_type": "code",
   "execution_count": null,
   "id": "4b857e9d-99fd-4bad-8aa4-1178337b891a",
   "metadata": {},
   "outputs": [],
   "source": [
    "# Check column names\n",
    "\n",
    "columns=df.columns\n",
    "\n",
    "print(\"Columns\\n----------\")\n",
    "for each in columns:\n",
    "    print(each)"
   ]
  },
  {
   "cell_type": "code",
   "execution_count": null,
   "id": "4602a84b-bfe6-40fb-9a0b-e60111b3e709",
   "metadata": {
    "tags": []
   },
   "outputs": [],
   "source": [
    "# Check data type in each column\n",
    "# Check for missing values\n",
    "\n",
    "df.info()"
   ]
  },
  {
   "cell_type": "code",
   "execution_count": null,
   "id": "c4d0a895-2ccb-42aa-8fb2-cba66c169ac0",
   "metadata": {},
   "outputs": [],
   "source": [
    "# Another way to explicitly check for missing values\n",
    "\n",
    "print(\"Number of missing values found\")\n",
    "df.isnull().sum()\n"
   ]
  },
  {
   "cell_type": "markdown",
   "id": "54c5d2be-7288-407c-b68a-59e450f8b62f",
   "metadata": {
    "tags": []
   },
   "source": [
    "#### No null values found. What next?"
   ]
  },
  {
   "cell_type": "code",
   "execution_count": null,
   "id": "02342277-65de-4487-85bf-4787eece740d",
   "metadata": {},
   "outputs": [],
   "source": [
    "# Check for duplicates\n",
    "\n",
    "print(f\"Number of duplicates found: {df.duplicated().sum()}\")"
   ]
  },
  {
   "cell_type": "markdown",
   "id": "6b9f424e-cf5c-4bfb-8816-f9eabac96cf9",
   "metadata": {},
   "source": [
    "#### We found a single duplicate, what should we do with it?"
   ]
  },
  {
   "cell_type": "code",
   "execution_count": null,
   "id": "4d390ced-8892-48d2-b346-6edd3416726f",
   "metadata": {},
   "outputs": [],
   "source": [
    "# Remove the duplicated row\n",
    "\n",
    "print(f\"Size before removal: {df.shape}\")\n",
    "\n",
    "# Drop the duplicate row\n",
    "df=df.drop_duplicates()\n",
    "\n",
    "print(f\"Size after removal: {df.shape}\")"
   ]
  },
  {
   "cell_type": "code",
   "execution_count": null,
   "id": "887d138b-0321-48a1-a560-baedae09de72",
   "metadata": {},
   "outputs": [],
   "source": [
    "df.describe()"
   ]
  },
  {
   "cell_type": "code",
   "execution_count": null,
   "id": "1aa87c52-56aa-4770-8aa8-96b424c7b479",
   "metadata": {},
   "outputs": [],
   "source": [
    "# Lets look at the value counts\n",
    "\n",
    "for i in columns:\n",
    "  print (i)\n",
    "  print(df[i].value_counts())\n",
    "  print('--------------------------------')"
   ]
  },
  {
   "cell_type": "markdown",
   "id": "fdaa200c-9e94-4af4-a839-8760d3960ced",
   "metadata": {},
   "source": [
    "### Not the easiest way to visualize the data. How might we visualize it? "
   ]
  },
  {
   "cell_type": "code",
   "execution_count": null,
   "id": "e901b7c7-5497-4acb-a992-33b6693cbb86",
   "metadata": {},
   "outputs": [],
   "source": [
    "sns.pairplot(df);\n",
    "\n",
    "# Sex and smoker excluded in this plot"
   ]
  },
  {
   "cell_type": "markdown",
   "id": "3986820e-5278-475a-b998-50e7c1f651cc",
   "metadata": {},
   "source": [
    "### What do you see in the data?\n"
   ]
  },
  {
   "cell_type": "markdown",
   "id": "87a9fe2f-ed05-4f93-a07b-c6cf93d0b8bc",
   "metadata": {},
   "source": [
    "We can partition the data ourselves for better vizualization. Let's apply labels based on the USA NIH Body Mass Index categories. https://www.nhlbi.nih.gov/health/educational/lose_wt/BMI/bmicalc.htm\n",
    "\n",
    "Underweight: <18.5\n",
    "Normal weight: 18.5-24.9\n",
    "Overweight: 25-29.9\n",
    "Obesity: >30"
   ]
  },
  {
   "cell_type": "code",
   "execution_count": null,
   "id": "2220cde2-b705-41ca-9076-89ca657e6243",
   "metadata": {},
   "outputs": [],
   "source": [
    "# Return a label (str) based on input BMI value\n",
    "def bmi_to_cat(bmi:float) -> str:\n",
    "  if bmi<18.5:\n",
    "     return 'A-Underweight'\n",
    "  elif 18.5<=bmi<25:\n",
    "     return 'B-Normal weight'\n",
    "  elif 25<=bmi<30:\n",
    "     return 'C-Overweight'\n",
    "  elif 30<=bmi:\n",
    "     return 'D-Obese'\n",
    "\n",
    "# Create new column at position 3 and using function to apply a label to each column\n",
    "df.insert(3,'bmi_cat',df['bmi'].apply(bmi_to_cat))\n",
    "df.head()"
   ]
  },
  {
   "cell_type": "code",
   "execution_count": null,
   "id": "d07c71c2-ad3d-4951-9c13-bd6b0242228a",
   "metadata": {},
   "outputs": [],
   "source": [
    "fig=px.scatter(df,\n",
    "               x='bmi',\n",
    "               y='age',\n",
    "               color='bmi_cat')\n",
    "\n",
    "# reverse order of legend\n",
    "fig.update_layout(legend_traceorder=\"reversed\")\n",
    "fig.show()"
   ]
  },
  {
   "cell_type": "markdown",
   "id": "40af4695-0896-40dd-b144-cfe97746620a",
   "metadata": {},
   "source": [
    "#### What do you takeaway from this plot?"
   ]
  },
  {
   "cell_type": "code",
   "execution_count": null,
   "id": "eca809cf-9b9a-4401-9078-db6fa27bb6e9",
   "metadata": {},
   "outputs": [],
   "source": [
    "# plot the counts of BMI category by sex\n",
    "\n",
    "fig=px.histogram(df,x='bmi_cat',color='sex', text_auto=True)\n",
    "fig.show()"
   ]
  },
  {
   "cell_type": "markdown",
   "id": "b82865ec-ff8e-4085-ac05-50a1ca398db2",
   "metadata": {},
   "source": [
    "#### Before we go any further, remember back to the distribution of charges? Let's look at that before we start to think about relationships between charge and other features."
   ]
  },
  {
   "cell_type": "code",
   "execution_count": null,
   "id": "cc26d2bc-b41f-4cbb-af8f-9d65f3958ada",
   "metadata": {},
   "outputs": [],
   "source": [
    "# Histogram of charges as given\n",
    "fig = px.histogram(df,\n",
    "    x='charges', # plot charges on x\n",
    "    nbins=32,\n",
    "    histfunc = 'count', # bin by count\n",
    "    color_discrete_sequence = ['#F56600'],\n",
    "    marginal=\"rug\" # add a margin plot showing the distribution\n",
    ")\n",
    "\n",
    "fig.show()"
   ]
  },
  {
   "cell_type": "markdown",
   "id": "372afbfa-7070-429b-83da-4a21013dc28d",
   "metadata": {},
   "source": [
    "#### Is this a good distribution for statistical analysis?"
   ]
  },
  {
   "cell_type": "markdown",
   "id": "747a0ea7-8985-4857-814f-bc2c19fa7240",
   "metadata": {},
   "source": [
    "There is a clear right skew to the data distribution\n",
    "\n",
    "What can we do about this?\n",
    "\n",
    "- <b>Do nothing:</b> Many statistical tests, including t tests, ANOVAs, and linear regressions, aren’t very sensitive to skewed data. Especially if the skew is mild or moderate, it may be best to ignore it.\n",
    "\n",
    "- <b>Use a different model:</b> You may want to choose a model that doesn’t assume a normal distribution. Non-parametric tests or generalized linear models could be more appropriate for your data.\n",
    "\n",
    "- <b>Transform the variable:</b> Another option is to transform a skewed variable so that it’s less skewed. “Transform” means to apply the same function to all the observations of a variable.\n",
    "\n",
    "<img src=\"Transformation by Skew level and side.png\" alt=\"Transformation by Skew level and side\"/>\n",
    "\n",
    "Image source: https://www.scribbr.com/statistics/skewness/"
   ]
  },
  {
   "cell_type": "code",
   "execution_count": null,
   "id": "87064e37-9b3b-4d7a-a121-154fc76ee3c0",
   "metadata": {},
   "outputs": [],
   "source": [
    "import plotly.graph_objs as go\n",
    "from plotly import subplots\n",
    "from plotly.offline import iplot\n",
    "\n",
    "# Determine the distribution of charge\n",
    "charge_dist = df[\"charges\"].values # charges as given\n",
    "logcharge = np.log(df[\"charges\"]) # natural log of charge value\n",
    "\n",
    "# Histogram of charges as given\n",
    "trace0 = go.Histogram(\n",
    "    x=charge_dist,\n",
    "    histfunc='count',\n",
    "    name=\"Charges Distribution\",\n",
    "    marker = dict(\n",
    "        color = '#F56600',\n",
    "    )\n",
    ")\n",
    "\n",
    "# Histogram of natural log of charges\n",
    "trace1 = go.Histogram(\n",
    "    x=logcharge,\n",
    "    histfunc='count',\n",
    "    name=\"Charges Distribution using Log\",\n",
    "    marker = dict(\n",
    "        color = '#522D80',\n",
    "    )\n",
    ")\n",
    "\n",
    "# figure to hold both histograms\n",
    "fig = subplots.make_subplots(rows=2, cols=1,\n",
    "                          subplot_titles=('Charge Distribution','Log Charge Distribution'),\n",
    "                         print_grid=False)\n",
    "\n",
    "\n",
    "# add two histograms to figure\n",
    "fig.append_trace(trace0, 1, 1)\n",
    "fig.append_trace(trace1, 2, 1)\n",
    "\n",
    "# display figure\n",
    "fig['layout'].update(showlegend=True, \n",
    "                     title='Charge Distribution by value and log(value)', \n",
    "                     bargap=0.05\n",
    "                    )\n",
    "iplot(fig, filename='custom-sized-subplot-with-subplot-titles')"
   ]
  },
  {
   "cell_type": "markdown",
   "id": "c1d58bee-5e67-471c-81d4-1b9158b0d86c",
   "metadata": {},
   "source": [
    "#### Now let's dig into the features. We haven't looked at the smoker feature yet."
   ]
  },
  {
   "cell_type": "code",
   "execution_count": null,
   "id": "3ed8332d-f23b-42c0-8c8c-928c06ccfdcf",
   "metadata": {},
   "outputs": [],
   "source": [
    "# Table of values by sex and smoking status. \n",
    "# Also include the counts along rows and columns\n",
    "pd.crosstab(df.sex,df.smoker,margins=True)"
   ]
  },
  {
   "cell_type": "code",
   "execution_count": null,
   "id": "c3099063-f698-4e4e-ad98-3035e72983d5",
   "metadata": {},
   "outputs": [],
   "source": [
    "# Strip chart (1-D jittered scatter plot) of sex vs charges and split based on smoker\n",
    "\n",
    "fig=px.strip(df,x='sex',y='charges',color='smoker')\n",
    "fig.show()"
   ]
  },
  {
   "cell_type": "markdown",
   "id": "c06f736c-7562-4c70-9521-3738aa60267e",
   "metadata": {},
   "source": [
    "### Observations?"
   ]
  },
  {
   "cell_type": "markdown",
   "id": "995c5dfa-0fb3-407c-87c2-d2fd9fa24808",
   "metadata": {},
   "source": [
    "Observations: For most customers, the annual medical charges are below 15,000 dollars. But there are outliers who have higher medical expenses, possibly due to some other reasons. However, there is a significant difference in medical expenses between smokers and non-smokers.\n",
    "\n",
    "#### Let's look at the breakdown of sex, smoker, and BMI by count."
   ]
  },
  {
   "cell_type": "code",
   "execution_count": null,
   "id": "7d18a41f-21f1-41dc-a0e6-9b24b299161b",
   "metadata": {},
   "outputs": [],
   "source": [
    "# pivot table breakdown of sex>smoker and BMI counts\n",
    "pd.crosstab([df.sex,df.smoker],df.bmi_cat,margins=True)"
   ]
  },
  {
   "cell_type": "code",
   "execution_count": null,
   "id": "3c099e27-816d-466c-9784-a412c5247069",
   "metadata": {},
   "outputs": [],
   "source": [
    "# Group the data by sex, smoker, and BMI category then find the mean of the charge\n",
    "\n",
    "a=df.groupby(['sex','smoker','bmi_cat'])['charges'].mean().reset_index()\n",
    "a.head(20) \n",
    "\n",
    "# NOTE: there are only 16 rows so we can use any number larger than the expected number to print all"
   ]
  },
  {
   "cell_type": "code",
   "execution_count": null,
   "id": "c34f57ed-1103-4937-aefa-277cb7d52c99",
   "metadata": {},
   "outputs": [],
   "source": [
    "# Using the grouped data\n",
    "# plot charges by sex and BMI category\n",
    "# Group bars for smoker\n",
    "\n",
    "fig=px.bar(a,x='sex',y='charges',color='bmi_cat',barmode='group', text_auto=True)\n",
    "fig.show()"
   ]
  },
  {
   "cell_type": "code",
   "execution_count": null,
   "id": "782daa2d-f87e-4406-b165-f18950758933",
   "metadata": {},
   "outputs": [],
   "source": [
    "# plot charges by sex, smoker, and BMI category\n",
    "\n",
    "fig=px.histogram(df,x='bmi_cat',color='sex',barmode='group',facet_row='smoker', text_auto=True)\n",
    "fig.show()"
   ]
  },
  {
   "cell_type": "markdown",
   "id": "b082ebe4-56c1-408c-8bfd-39599b6f1271",
   "metadata": {},
   "source": [
    "We can observe that the average charges for non-smoking males & females of different bmi categories, is <\\\\$10k. Both sexes who are smokers as well as any form of obese, have average charges as high as \\\\$43k. Male underweight had the lowest category average cost of smokers with an average of \\\\$13k\n",
    "\n",
    "We haven't looked at region yet."
   ]
  },
  {
   "cell_type": "code",
   "execution_count": null,
   "id": "40a26888-b4f7-4190-8050-65b5f160cbe4",
   "metadata": {},
   "outputs": [],
   "source": [
    "# pivot table of BMI category by region\n",
    "\n",
    "pd.crosstab(df.region,df.bmi_cat,margins=True)"
   ]
  },
  {
   "cell_type": "code",
   "execution_count": null,
   "id": "da48117b-8925-4019-849c-23bd6c6b1d68",
   "metadata": {},
   "outputs": [],
   "source": [
    "# Charges vs region and BMI category\n",
    "fig=px.strip(df,x='region',y='charges',color='bmi_cat')\n",
    "# reverse order of legend\n",
    "fig.update_layout(legend_traceorder=\"reversed\")\n",
    "fig.show()"
   ]
  },
  {
   "cell_type": "code",
   "execution_count": null,
   "id": "33a23a5f-5682-41d2-9ca4-5ce15659ad25",
   "metadata": {},
   "outputs": [],
   "source": [
    "# pivot table of smoker status by region\n",
    "pd.crosstab(df.region,df.smoker,margins=True)"
   ]
  },
  {
   "cell_type": "code",
   "execution_count": null,
   "id": "32c2296b-13ab-4194-8a15-c16b54fac0d8",
   "metadata": {},
   "outputs": [],
   "source": [
    "# Plot the pivot table of smoker status by region\n",
    "fig=px.histogram(df, x='region', facet_row='smoker', text_auto=True)\n",
    "fig.show()"
   ]
  },
  {
   "cell_type": "code",
   "execution_count": null,
   "id": "ef49a48d-4ccf-4cff-a745-9946c233f71b",
   "metadata": {},
   "outputs": [],
   "source": [
    "# plot charges by region and smoker\n",
    "\n",
    "fig=px.strip(df,x='region',y='charges',color='smoker')\n",
    "fig.show()"
   ]
  },
  {
   "cell_type": "markdown",
   "id": "f0c80338-572c-4451-ab6a-7c104437bb1f",
   "metadata": {},
   "source": [
    "### Observations?"
   ]
  },
  {
   "cell_type": "markdown",
   "id": "b635b18b-46f3-46a9-8fd9-027cba36b0dc",
   "metadata": {},
   "source": []
  },
  {
   "cell_type": "code",
   "execution_count": null,
   "id": "4c0bc691-5659-475a-af4f-5b2b380e2c7f",
   "metadata": {},
   "outputs": [],
   "source": [
    "# scatter plot charges by age and color by smoker\n",
    "fig=px.scatter(df,x='age',y='charges',color='smoker')\n",
    "fig.show()"
   ]
  },
  {
   "cell_type": "markdown",
   "id": "429f8fe4-82f3-40ba-89d4-7ae6dbe304c5",
   "metadata": {},
   "source": [
    "### Observations?"
   ]
  },
  {
   "cell_type": "markdown",
   "id": "524a3ca4-e9ea-4d48-b98f-7eea705c49e7",
   "metadata": {},
   "source": [
    "Medical charges increase with age\n",
    "\n",
    "We can see three clusters of points, each of which seems to form a line with an increasing slope:\n",
    "\n",
    "- The first cluster consists of non-smokers who have relatively low medical charges compared to others.\n",
    "- The second cluster contains a mix of smokers and non-smokers. It's possible that these are actually two distinct but overlapping clusters: \"non-smokers with other medical issues\" and \"smokers without major medical issues\".\n",
    "- The final cluster consists of smokers with major medical issues that are possibly related to or worsened by smoking."
   ]
  },
  {
   "cell_type": "code",
   "execution_count": null,
   "id": "c18f9027-b792-4567-b79a-4b6858c9c431",
   "metadata": {},
   "outputs": [],
   "source": [
    "# Plot the empirical cumulative distribution plot of charges by smoker\n",
    "\n",
    "# The empirical distribution function is an estimate of the cumulative \n",
    "# distribution function that generated the points in the sample. It \n",
    "# converges with probability 1 to that underlying distribution. Helps \n",
    "# answer the question, how likely are we to see a value below a certain point.\n",
    "\n",
    "# more info on ecdf https://en.wikipedia.org/wiki/Empirical_distribution_function\n",
    "\n",
    "fig=px.ecdf(df,x='charges',color='smoker')\n",
    "fig.show()\n",
    "\n"
   ]
  },
  {
   "cell_type": "markdown",
   "id": "bed84b7d-816f-4736-a9e6-6cddb8ef36f2",
   "metadata": {},
   "source": [
    "### Observations?"
   ]
  },
  {
   "cell_type": "markdown",
   "id": "d1e7c0c3-39a9-45de-8e46-0528ea972e3b",
   "metadata": {},
   "source": [
    "2/3 of non-smokers have charges less than \\\\$10k.\n",
    "\n",
    "2/3 of smokers have charges less than \\\\$40k."
   ]
  },
  {
   "cell_type": "code",
   "execution_count": null,
   "id": "3cd8b638-dab0-4b8d-ba86-0f60de2cf009",
   "metadata": {},
   "outputs": [],
   "source": [
    "# Plot the empirical cumulative distribution plot of charges by sex\n",
    "\n",
    "fig=px.ecdf(df,x='charges',color='sex')\n",
    "fig.show()"
   ]
  },
  {
   "cell_type": "code",
   "execution_count": null,
   "id": "3f2fb497-9858-4a07-aee3-4cee660643b9",
   "metadata": {},
   "outputs": [],
   "source": [
    "# Plot the empirical cumulative distribution plot of charges by region\n",
    "\n",
    "fig=px.ecdf(df,x='charges',color='region')\n",
    "fig.show()"
   ]
  },
  {
   "cell_type": "code",
   "execution_count": null,
   "id": "e837a369-0252-400b-bb54-c6624f5478c0",
   "metadata": {},
   "outputs": [],
   "source": [
    "# Scatter plot of charges vs BMI, color by smoker\n",
    "\n",
    "fig=px.scatter(df,x='bmi',y='charges',color='smoker')\n",
    "fig.show()"
   ]
  },
  {
   "cell_type": "markdown",
   "id": "f55dfdd7-a5e8-494e-8360-ab7ae7464efa",
   "metadata": {},
   "source": [
    "### Observations?"
   ]
  },
  {
   "cell_type": "markdown",
   "id": "ffd55001-7204-4029-b0d7-28a985ca9c82",
   "metadata": {},
   "source": []
  },
  {
   "cell_type": "markdown",
   "id": "1030e6d1-6fb6-4fe6-bc15-7ac87d17a7de",
   "metadata": {},
   "source": [
    "It appears that for non-smokers, an increase in BMI doesn't seem to be related to an increase in medical charges. However, medical charges seem to be significantly higher for smokers with a BMI greater than 30.\n",
    "\n",
    "Let's try another way to visualize the data with a 3D plot."
   ]
  },
  {
   "cell_type": "code",
   "execution_count": null,
   "id": "b8fb0302-eeac-4312-8e0a-dcf13f1f956f",
   "metadata": {},
   "outputs": [],
   "source": [
    "# 3D Scatter plot of charges vs BMI and age, color by smoker\n",
    "\n",
    "fig=px.scatter_3d(df,x='age',y='bmi',z='charges',color='smoker')\n",
    "fig.update_traces(marker_size=5,marker_opacity=0.5)\n",
    "fig.show()"
   ]
  },
  {
   "cell_type": "markdown",
   "id": "42a0be83-507f-4164-bd10-aa7e932cd734",
   "metadata": {},
   "source": [
    "***\n",
    "## Preparing the data for modeling\n",
    "\n",
    "- Clean dataset as needed (here it is already very clean!)\n",
    "- Encode categorical variables\n",
    "- Check for correlation in features\n",
    "- Scale columns as needed"
   ]
  },
  {
   "cell_type": "code",
   "execution_count": null,
   "id": "faa61d1a-d810-4017-a711-6d318f91ad40",
   "metadata": {},
   "outputs": [],
   "source": [
    "# Remind ourselves what we are working with\n",
    "df.head()"
   ]
  },
  {
   "cell_type": "code",
   "execution_count": null,
   "id": "de368bfa-42c8-4303-92bc-c41010ef6271",
   "metadata": {},
   "outputs": [],
   "source": [
    "# Drop our generated column BMI category\n",
    "\n",
    "df.drop(['bmi_cat'],axis=1,inplace=True)\n",
    "df.head()"
   ]
  },
  {
   "cell_type": "markdown",
   "id": "4c4f56d5-3df8-4518-9b64-9fa1a9caf232",
   "metadata": {},
   "source": [
    "We will need to encode the columns sex, smoker, and region."
   ]
  },
  {
   "cell_type": "code",
   "execution_count": null,
   "id": "2db8c0a1-dcfb-41d0-8c64-c762b7f3da2f",
   "metadata": {},
   "outputs": [],
   "source": [
    "columns_to_encode=['sex','smoker','region']\n",
    "\n",
    "df_encoded=pd.get_dummies(df,columns=columns_to_encode)\n",
    "df_encoded.head()"
   ]
  },
  {
   "cell_type": "code",
   "execution_count": null,
   "id": "76c9de18-d08d-4cdd-8b95-933877fe2713",
   "metadata": {},
   "outputs": [],
   "source": [
    "# lets take a look at the feature correlations\n",
    "\n",
    "plt.figure(figsize=(10,10))\n",
    "sns.heatmap(df_encoded.corr(),linewidths=0.5,annot=True)"
   ]
  },
  {
   "cell_type": "markdown",
   "id": "45a5afc1-7ec0-4356-83c9-4312650f4e98",
   "metadata": {},
   "source": [
    "### Observations?"
   ]
  },
  {
   "cell_type": "markdown",
   "id": "3a5e695e-5cd7-43ce-acd5-d101d6cbb0ed",
   "metadata": {},
   "source": []
  },
  {
   "cell_type": "markdown",
   "id": "6f2bd0c8-f095-4684-ac8f-af0e30bde800",
   "metadata": {},
   "source": [
    "The newly created sex_male and sex_female columns are perfectly inversely correlated in our data. \n",
    "\n",
    "The newly created smoker_yes and smoker_female columns are perfectly inversely correlated in our data. \n",
    "\n",
    "region_southeast and bmi have a positive correlation\n",
    "\n",
    "For the feature of interest for prediction\n",
    "- age and BMI have a positive correlation\n",
    "- smoker_no and smoker_yes have a strong negative and positive correlation, respectively"
   ]
  },
  {
   "cell_type": "markdown",
   "id": "933641fb-d11b-4e7a-8c5a-aa46bc4b510e",
   "metadata": {},
   "source": [
    "### K-1 Dummy Encoding\n",
    "Converts a categorial variable with k number of labels into k-1 binary variables that are better suited for ML applications than strings.\n",
    "\n",
    "<img src=\"k-1_dummy encoding.png\" alt=\"k-1_dummy encoding.png\">\n",
    "\n",
    "Why is it called k-1?\n",
    "\n",
    "Let's try encoding again, this time using K-1."
   ]
  },
  {
   "cell_type": "code",
   "execution_count": null,
   "id": "de779884-73fe-434c-8ec4-32b3ee60dd9b",
   "metadata": {},
   "outputs": [],
   "source": [
    "columns_to_k1_encode=['sex','smoker']\n",
    "columns_to_encode=['region']\n",
    "\n",
    "df_encoded=pd.get_dummies(df,columns=columns_to_k1_encode, drop_first=True)\n",
    "df_encoded=pd.get_dummies(df_encoded,columns=columns_to_encode, drop_first=False)\n",
    "df_encoded.head()"
   ]
  },
  {
   "cell_type": "code",
   "execution_count": null,
   "id": "01570484-1636-4a19-9e3a-d14fd7479781",
   "metadata": {},
   "outputs": [],
   "source": [
    "# Pairplot of all features of encoded data\n",
    "\n",
    "sns.pairplot(df_encoded);"
   ]
  },
  {
   "cell_type": "code",
   "execution_count": null,
   "id": "e2f0e66a-85e3-45e4-bcd7-bfe57067b39e",
   "metadata": {},
   "outputs": [],
   "source": [
    "# lets take a look at the feature correlations\n",
    "\n",
    "plt.figure(figsize=(10,10))\n",
    "sns.heatmap(df_encoded.corr(),linewidths=0.5,annot=True);"
   ]
  },
  {
   "cell_type": "markdown",
   "id": "72a4edf5-8379-4b21-b757-081e5e309cbb",
   "metadata": {},
   "source": [
    "***\n",
    "## Modeling\n",
    "### Simple Linear Regression"
   ]
  },
  {
   "cell_type": "code",
   "execution_count": null,
   "id": "0c54ee90-7630-451a-bb37-f22eadf40d12",
   "metadata": {},
   "outputs": [],
   "source": [
    "from sklearn.linear_model import LinearRegression\n",
    "from sklearn.model_selection import train_test_split\n",
    "from sklearn.preprocessing import PolynomialFeatures\n",
    "from sklearn.metrics import r2_score,mean_squared_error\n",
    "from sklearn.ensemble import RandomForestRegressor"
   ]
  },
  {
   "cell_type": "code",
   "execution_count": null,
   "id": "36539e9d-0917-4d61-b365-398b821809fb",
   "metadata": {},
   "outputs": [],
   "source": [
    "# build our feature and response dataframe and series\n",
    "x = df_encoded.drop(['charges'], axis = 1)\n",
    "y = df_encoded.charges"
   ]
  },
  {
   "cell_type": "code",
   "execution_count": null,
   "id": "099cd3ae-b4af-4304-aabf-8f41a9e2a2f6",
   "metadata": {},
   "outputs": [],
   "source": [
    "# Split the data \n",
    "x_train,x_test,y_train,y_test = train_test_split(x,y, test_size=0.4, random_state = 7)\n",
    "\n",
    "# define our model\n",
    "lr = LinearRegression()\n",
    "\n",
    "# fit the model to the training data\n",
    "lr.fit(x_train,y_train)\n",
    "\n",
    "# predict the \n",
    "y_train_pred = lr.predict(x_train)\n",
    "y_test_pred = lr.predict(x_test)\n",
    "\n",
    "print(\"Training Performance\")\n",
    "print(f\"R2 = {lr.score(x_train, y_train):.2f}\")\n",
    "\n",
    "print(\"\\nTesting Performance\")\n",
    "print(f\"R2 = {lr.score(x_test,y_test):.2f}\")"
   ]
  },
  {
   "cell_type": "code",
   "execution_count": null,
   "id": "1a9ee2bc-1180-4d8e-b8d9-bd709d13420e",
   "metadata": {},
   "outputs": [],
   "source": [
    "# Check other performance metrics\n",
    "mse = mean_squared_error(y_test,y_test_pred)\n",
    "rmse = np.sqrt(mean_squared_error(y_test,y_test_pred))\n",
    "r2 = np.abs(r2_score(y_test,y_test_pred))\n",
    "\n",
    "print(f'MSE test: {mse:.2f}')\n",
    "print(f'RMSE test: {rmse:.2f}')"
   ]
  },
  {
   "cell_type": "markdown",
   "id": "8315eed9-92da-4015-b0ec-d85196c6ad7e",
   "metadata": {},
   "source": [
    "Not bad performance from just throwing the data into a model! Lets take a look at a plot of the prediction vs actual value of charges."
   ]
  },
  {
   "cell_type": "code",
   "execution_count": null,
   "id": "2d595593-477f-4eff-b07e-22f23e73cc8e",
   "metadata": {},
   "outputs": [],
   "source": [
    "# plot the value of predicted vs actual\n",
    "scale = 500\n",
    "\n",
    "fig=px.scatter(x=y_test,y=y_test_pred,labels={'x':'Actual','y':'Predicted'}, width=scale, height=scale)\n",
    "# draw a line behind the data points\n",
    "fig.update_layout(shapes = [{'type': 'line', 'yref': 'paper', 'xref': 'paper', 'y0': 0, 'y1': 1, 'x0': 0, 'x1': 1}])\n",
    "fig.show()"
   ]
  },
  {
   "cell_type": "markdown",
   "id": "f7e9503a-62dd-47fb-a8e0-e477ab24af78",
   "metadata": {
    "tags": []
   },
   "source": [
    "It is ok, but there is a spread of data points that don't fall on the expected diagonal.\n",
    "\n",
    "Let's check linearity using OLS.\n"
   ]
  },
  {
   "cell_type": "code",
   "execution_count": null,
   "id": "302bfa65-75f7-460b-8201-6683c01ca759",
   "metadata": {},
   "outputs": [],
   "source": [
    "# spot check regression\n",
    "scale = 500\n",
    "px.scatter(df,'age','charges',trendline='ols',trendline_color_override='black', width=scale, height=scale)"
   ]
  },
  {
   "cell_type": "code",
   "execution_count": null,
   "id": "bd577e0d-77a1-4534-939f-b9b7b3006248",
   "metadata": {},
   "outputs": [],
   "source": [
    "# Examine the weights of each feature\n",
    "print(lr.coef_)\n",
    "\n",
    "weights_df=pd.DataFrame({'features':np.append(x.columns,1),'weights':np.append(lr.coef_,lr.intercept_)})\n",
    "weights_df.sort_values(by='weights', ascending=False)"
   ]
  },
  {
   "cell_type": "markdown",
   "id": "ba0e772c-2f3f-4593-96e8-b82bc38abce4",
   "metadata": {},
   "source": [
    "While it seems like \"smoker_yes\", \"region_northeast\", and \"bmi\" have a higher weight than age, keep in mind that their range of values columns only take the values 0 and 1, while that of bmi ranges from 15 to 53.\n",
    "\n",
    "Because different columns have different ranges, we run into two issues:\n",
    "\n",
    "We can't compare the weights of different columns to identify which features are important. A column with a larger range of inputs may disproportionately affect the loss and dominate the optimization process. For this reason, it's common practice to scale (or standardize) the values in numerical columns. We can apply scaling using the StandardScaler class from scikit-learn"
   ]
  },
  {
   "cell_type": "code",
   "execution_count": null,
   "id": "db15c714-85bb-4a62-b3fd-47a429257771",
   "metadata": {},
   "outputs": [],
   "source": [
    "# Scale the features using sklearn StandardScaler\n",
    "from sklearn.preprocessing import StandardScaler\n",
    "scaler=StandardScaler()\n",
    "\n",
    "# numerical columns to scale\n",
    "numerical_columns=['age','bmi','children']\n",
    "scaler.fit(df_encoded[numerical_columns])\n",
    "\n",
    "# scale numerical columns and remake into a new DataFrame\n",
    "scaled_inputs=pd.DataFrame(scaler.transform(df_encoded[numerical_columns]), columns=numerical_columns)\n",
    "\n",
    "# print(scaled_inputs)\n",
    "\n",
    "# drop the unscaled columns and put the numerical columns into a new DataFrame\n",
    "df_encoded_scaled = df_encoded.drop(numerical_columns, axis=1)\n",
    "\n",
    "# print(df_encoded_scaled)\n",
    "\n",
    "# concatenate the scaled DataFrame and the numerical data\n",
    "df_encoded_scaled = pd.concat([df_encoded_scaled, scaled_inputs], axis=1)\n",
    "df_encoded_scaled=df_encoded_scaled.dropna()\n",
    "\n",
    "\n",
    "x = df_encoded_scaled.drop(['charges'], axis=1)\n",
    "y = df_encoded_scaled.charges\n",
    "\n",
    "# split dataset\n",
    "x_train,x_test,y_train,y_test = train_test_split(x,y, test_size=0.4, random_state = 7)\n",
    "\n",
    "# Train model\n",
    "model = lr.fit(x_train, y_train)\n",
    "\n",
    "y_train_pred = lr.predict(x_train)\n",
    "y_test_pred = lr.predict(x_test)\n",
    "\n",
    "print(\"Training Performance\")\n",
    "print(f\"R2 = {lr.score(x_train, y_train):.2f}\")\n",
    "\n",
    "print(\"\\nTesting Performance\")\n",
    "print(f\"R2 = {lr.score(x_test,y_test):.2f}\")\n",
    "\n",
    "# Check other performance metrics\n",
    "mse = mean_squared_error(y_test,y_test_pred)\n",
    "rmse = np.sqrt(mean_squared_error(y_test,y_test_pred))\n",
    "r2 = np.abs(r2_score(y_test,y_test_pred))\n",
    "\n",
    "print('\\n')\n",
    "print(f'MSE test: {mse:.2f}')\n",
    "print(f'RMSE test: {rmse:.2f}')"
   ]
  },
  {
   "cell_type": "markdown",
   "id": "d6983d87-bbad-4fc7-8da3-fceac24da5c8",
   "metadata": {},
   "source": [
    "Scaling affected the model performance, which is expected. Let's look at the weights again."
   ]
  },
  {
   "cell_type": "code",
   "execution_count": null,
   "id": "e6597823-a7e9-4031-b288-5d68ef5d21f8",
   "metadata": {},
   "outputs": [],
   "source": [
    "# Examine the weights of each feature\n",
    "weights_df=pd.DataFrame({'features':np.append(x.columns,1),'weights':np.append(lr.coef_,lr.intercept_)})\n",
    "weights_df.sort_values(by='weights', ascending=False)"
   ]
  },
  {
   "cell_type": "markdown",
   "id": "d3e3519a-9867-497b-b391-b11f72f06bf8",
   "metadata": {},
   "source": [
    "### Observations?"
   ]
  },
  {
   "cell_type": "markdown",
   "id": "709d7077-601e-4690-9222-910025476427",
   "metadata": {},
   "source": []
  },
  {
   "cell_type": "markdown",
   "id": "e349f983-472d-49fd-849e-4dfad67ed722",
   "metadata": {},
   "source": [
    "Let's try polynomial features."
   ]
  },
  {
   "cell_type": "code",
   "execution_count": null,
   "id": "818f9846-5fdd-4e6b-904a-732c9021ab98",
   "metadata": {},
   "outputs": [],
   "source": [
    "# build our feature and response dataframe and series\n",
    "x = df_encoded.drop(['charges'], axis = 1)\n",
    "y = df_encoded.charges\n",
    "\n",
    "quad = PolynomialFeatures (degree = 2)\n",
    "x_quad = quad.fit_transform(x) \n",
    "\n",
    "# Example, if an input sample is two dimensional and of the form [a, b], \n",
    "# the degree-2 polynomial features are [1, a, b, a^2, ab, b^2]\n",
    "\n",
    "# NOTE: Be aware that the number of features in the output array scales polynomially \n",
    "# in the number of features of the input array, and exponentially in the degree. \n",
    "# High degrees can cause overfitting. \n",
    "\n",
    "x_train,x_test,y_train,y_test = train_test_split(x_quad,y, random_state = 0)\n",
    "\n",
    "plr = LinearRegression().fit(x_train,y_train)\n",
    "\n",
    "y_train_pred = plr.predict(x_train)\n",
    "y_test_pred = plr.predict(x_test)\n",
    "\n",
    "print(\"Training Performance\")\n",
    "print(f\"R2 = {plr.score(x_train, y_train):.2f}\")\n",
    "\n",
    "print(\"\\nTesting Performance\")\n",
    "print(f\"R2 = {plr.score(x_test,y_test):.2f}\")\n",
    "\n",
    "# Check other performance metrics\n",
    "mse = mean_squared_error(y_test,y_test_pred)\n",
    "rmse = np.sqrt(mean_squared_error(y_test,y_test_pred))\n",
    "r2 = np.abs(r2_score(y_test,y_test_pred))\n",
    "\n",
    "print('\\n')\n",
    "print(f'MSE test: {mse:.2f}')\n",
    "print(f'RMSE test: {rmse:.2f}')"
   ]
  },
  {
   "cell_type": "code",
   "execution_count": null,
   "id": "4dec0e27-0fc8-410c-983b-4c59dde424af",
   "metadata": {},
   "outputs": [],
   "source": [
    "# plot the value of predicted vs actual for polynomial features\n",
    "scale = 500\n",
    "\n",
    "fig=px.scatter(x=y_test,y=y_test_pred,labels={'x':'Actual','y':'Predicted'}, width=scale, height=scale)\n",
    "# draw a line behind the data points\n",
    "fig.update_layout(shapes = [{'type': 'line', 'yref': 'paper', 'xref': 'paper', 'y0': 0, 'y1': 1, 'x0': 0, 'x1': 1}])\n",
    "fig.show()"
   ]
  },
  {
   "cell_type": "markdown",
   "id": "bf255796-3b8c-4031-b5f3-92ecc5d96a0c",
   "metadata": {},
   "source": [
    "Again, good performance!\n",
    "\n",
    "Let's try a random forest regression. "
   ]
  },
  {
   "cell_type": "code",
   "execution_count": null,
   "id": "96966304-94ed-40da-94ea-f33f63dc719e",
   "metadata": {},
   "outputs": [],
   "source": [
    "# build our feature and response dataframe and series\n",
    "x = df_encoded.drop(['charges'], axis = 1)\n",
    "y = df_encoded.charges\n",
    "\n",
    "# split the data \n",
    "x_train,x_test,y_train,y_test = train_test_split(x,y, test_size=0.4, random_state = 7)\n",
    "\n",
    "# define our model\n",
    "clf = RandomForestRegressor(n_estimators = 100,\n",
    "                              criterion = 'friedman_mse',\n",
    "                              random_state = 10,\n",
    "                              n_jobs = -1)\n",
    "\n",
    "clf.fit(x_train,y_train)\n",
    "forest_train_pred = clf.predict(x_train)\n",
    "forest_test_pred = clf.predict(x_test)\n",
    "\n",
    "print(f'MSE train data: {mean_squared_error(y_train,forest_train_pred):.3f}') \n",
    "print(f'MSE test data: {mean_squared_error(y_test,forest_test_pred):.3f}')\n",
    "print(\"\\n\")\n",
    "print(f'R2 train data: {r2_score(y_train,forest_train_pred):.2f}')\n",
    "print(f'R2 test data: {r2_score(y_test,forest_test_pred):.2f}')"
   ]
  },
  {
   "cell_type": "markdown",
   "id": "bac1c16b-5f04-469d-9f6a-a1bca6c0f3d0",
   "metadata": {},
   "source": [
    "It works well but R2 is not significantly better than the polynomial feature regression."
   ]
  },
  {
   "cell_type": "code",
   "execution_count": null,
   "id": "fd4d1edc-b6bb-4868-99bd-7537c69070f6",
   "metadata": {},
   "outputs": [],
   "source": [
    "# plot the value of predicted vs actual\n",
    "scale = 500\n",
    "\n",
    "fig=px.scatter(x=y_test,y=forest_test_pred,labels={'x':'Actual','y':'Predicted'}, width=scale, height=scale)\n",
    "# draw a line behind the data points\n",
    "fig.update_layout(shapes = [{'type': 'line', 'yref': 'paper', 'xref': 'paper', 'y0': 0, 'y1': 1, 'x0': 0, 'x1': 1}])\n",
    "fig.show()"
   ]
  },
  {
   "cell_type": "markdown",
   "id": "9a156b32-ace1-45d6-9d70-c9441ce63a2b",
   "metadata": {},
   "source": [
    "#### Obervations? \n",
    "\n",
    "#### How might we improve this plot?"
   ]
  },
  {
   "cell_type": "markdown",
   "id": "24ab732c-5c13-4626-8211-4d730e079b6d",
   "metadata": {},
   "source": []
  },
  {
   "cell_type": "code",
   "execution_count": null,
   "id": "bf63c21a-7bbb-42ad-a80b-5685d4c95093",
   "metadata": {},
   "outputs": [],
   "source": [
    "# Plot tailings vs predicted values\n",
    "# How far away from the actual value was the model?\n",
    "\n",
    "plt.figure(figsize=(8,6))\n",
    "\n",
    "plt.scatter(forest_train_pred,forest_train_pred - y_train,\n",
    "          c = '#522D80', marker = 'o', s = 35, alpha = 0.5,\n",
    "          label = 'Train data')\n",
    "plt.scatter(forest_test_pred,forest_test_pred - y_test,\n",
    "          c = '#F56600', marker = 'o', s = 35, alpha = 0.7,\n",
    "          label = 'Test data')\n",
    "plt.xlabel('Predicted values')\n",
    "plt.ylabel('Tailings')\n",
    "plt.legend(loc = 'upper left')\n",
    "plt.hlines(y = 0, xmin = 0, xmax = 60000, lw = 2, color = 'red')\n",
    "plt.show()"
   ]
  },
  {
   "cell_type": "code",
   "execution_count": null,
   "id": "07fc28ad-850d-4a73-bd7c-d5d29d3c0233",
   "metadata": {},
   "outputs": [],
   "source": [
    "from statsmodels.stats.outliers_influence import variance_inflation_factor\n",
    "\n",
    "vif_data = pd.DataFrame()\n",
    "vif_data[\"features\"] = df_encoded.columns\n",
    "\n",
    "vif_data[\"VIF\"] = [variance_inflation_factor(df_encoded.values, i)\n",
    "                   for i in range(len(df_encoded.columns))]\n",
    "\n",
    "# Print the sorted VIF data output from high to low value\n",
    "vif_data.sort_values(ascending=False, by='VIF')"
   ]
  },
  {
   "cell_type": "markdown",
   "id": "36ef91b8-2816-43ab-a5c6-62881138bee3",
   "metadata": {},
   "source": [
    "### Observations?"
   ]
  },
  {
   "cell_type": "code",
   "execution_count": null,
   "id": "d09b3477-46b0-4137-b4b7-8a03a41a0868",
   "metadata": {},
   "outputs": [],
   "source": []
  },
  {
   "cell_type": "code",
   "execution_count": null,
   "id": "65c633a4-167d-4d6e-b02e-c0ff4aafdae0",
   "metadata": {},
   "outputs": [],
   "source": []
  },
  {
   "cell_type": "code",
   "execution_count": null,
   "id": "c0ab7290-1595-45be-a5d6-500ab4cc4115",
   "metadata": {},
   "outputs": [],
   "source": []
  },
  {
   "cell_type": "code",
   "execution_count": null,
   "id": "4b8a503c-5890-4760-b77d-fe5ec0d5183b",
   "metadata": {},
   "outputs": [],
   "source": []
  },
  {
   "cell_type": "code",
   "execution_count": null,
   "id": "35f6e9a4-1505-4fa0-976a-fb58f0cbe830",
   "metadata": {},
   "outputs": [],
   "source": []
  },
  {
   "cell_type": "code",
   "execution_count": null,
   "id": "60561b77-c617-417e-8e3c-9babc7afa6ad",
   "metadata": {},
   "outputs": [],
   "source": []
  },
  {
   "cell_type": "code",
   "execution_count": null,
   "id": "b7b3323e-8d22-4b4a-94ad-6ef819a317dc",
   "metadata": {},
   "outputs": [],
   "source": []
  }
 ],
 "metadata": {
  "kernelspec": {
   "display_name": "Python 3 (ipykernel)",
   "language": "python",
   "name": "python3"
  },
  "language_info": {
   "codemirror_mode": {
    "name": "ipython",
    "version": 3
   },
   "file_extension": ".py",
   "mimetype": "text/x-python",
   "name": "python",
   "nbconvert_exporter": "python",
   "pygments_lexer": "ipython3",
   "version": "3.8.13"
  }
 },
 "nbformat": 4,
 "nbformat_minor": 5
}
